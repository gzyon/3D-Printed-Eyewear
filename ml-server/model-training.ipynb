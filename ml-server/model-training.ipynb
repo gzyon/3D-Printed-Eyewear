{
 "cells": [
  {
   "cell_type": "code",
   "execution_count": 1,
   "id": "4510dc7a",
   "metadata": {},
   "outputs": [],
   "source": [
    "import pandas as pd\n",
    "import numpy as np\n",
    "from sklearn.model_selection import train_test_split\n",
    "from sklearn.ensemble import RandomForestRegressor\n",
    "import pickle\n",
    "import joblib"
   ]
  },
  {
   "cell_type": "code",
   "execution_count": 2,
   "id": "748b418d",
   "metadata": {},
   "outputs": [
    {
     "name": "stdout",
     "output_type": "stream",
     "text": [
      "   Age  Weight  Height  WearHours  WearYears  EyewearWeight  NoseArea  \\\n",
      "0   22      49     154         15        9.0           13.3     66.30   \n",
      "1   23      64     171          0        0.0           21.4     95.94   \n",
      "2   21      47     170         18       10.0           24.1     81.92   \n",
      "3   21      51     164          2        0.0           21.4     95.94   \n",
      "4   54      92     189         15       40.0           26.5    102.87   \n",
      "\n",
      "   CurrentComfort  HeadWidth  Frame1  ...  PSport  PStudy  PCosmetic  \\\n",
      "0               8        147       8  ...       1       1          0   \n",
      "1               8        155      10  ...       0       1          0   \n",
      "2               8        156       9  ...       0       1          1   \n",
      "3               8        148       9  ...       0       1          0   \n",
      "4              10        157      10  ...       0       0          0   \n",
      "\n",
      "   Gender_Female  Gender_Male  Race_Chinese  Race_Eurasian  Race_Indian  \\\n",
      "0              1            0             1              0            0   \n",
      "1              0            1             1              0            0   \n",
      "2              0            1             0              0            0   \n",
      "3              1            0             1              0            0   \n",
      "4              0            1             0              0            0   \n",
      "\n",
      "   Race_Malay  Race_Others  \n",
      "0           0            0  \n",
      "1           0            0  \n",
      "2           0            1  \n",
      "3           0            0  \n",
      "4           0            1  \n",
      "\n",
      "[5 rows x 25 columns]\n",
      "Index(['Age', 'Weight', 'Height', 'WearHours', 'WearYears', 'EyewearWeight',\n",
      "       'NoseArea', 'CurrentComfort', 'HeadWidth', 'Frame1', 'Frame2', 'Frame3',\n",
      "       'EarToFrame', 'EarToEye', 'PCorrect', 'PSport', 'PStudy', 'PCosmetic',\n",
      "       'Gender_Female', 'Gender_Male', 'Race_Chinese', 'Race_Eurasian',\n",
      "       'Race_Indian', 'Race_Malay', 'Race_Others'],\n",
      "      dtype='object')\n",
      "0      3\n",
      "1      2\n",
      "2      3\n",
      "3      3\n",
      "4      5\n",
      "      ..\n",
      "196    4\n",
      "197    5\n",
      "198    5\n",
      "199    6\n",
      "200    5\n",
      "Name: Frame3, Length: 201, dtype: int64\n"
     ]
    }
   ],
   "source": [
    "data = pd.read_csv(\"RFData.csv\")\n",
    "print(data.head(5))\n",
    "print(data.columns)\n",
    "print(data['Frame3'])"
   ]
  },
  {
   "cell_type": "code",
   "execution_count": 4,
   "id": "ec092fb3",
   "metadata": {},
   "outputs": [],
   "source": [
    "labels_frame1 = data['Frame1']\n",
    "labels_frame2 = data['Frame2']\n",
    "labels_frame3 = data['Frame3']\n",
    "features = data.drop(['Frame1', 'Frame2', 'Frame3'], axis = 1)\n",
    "\n",
    "# drop unnecessary features\n",
    "features = features.drop(['EarToFrame', 'EarToEye'], axis = 1)\n",
    "\n",
    "labels_frame1 = np.array(labels_frame1)\n",
    "labels_frame2 = np.array(labels_frame2)\n",
    "labels_frame3 = np.array(labels_frame3)\n",
    "features = np.array(features)"
   ]
  },
  {
   "cell_type": "code",
   "execution_count": 5,
   "id": "5e1dcd4a",
   "metadata": {},
   "outputs": [
    {
     "name": "stdout",
     "output_type": "stream",
     "text": [
      "Training Features Shape: (150, 20)\n",
      "Training Labels Shape: (150,)\n",
      "Testing Features Shape: (51, 20)\n",
      "Testing Labels Shape: (51,)\n",
      "[[ 55.  54. 162. ...   0.   0.   0.]\n",
      " [ 21.  42. 151. ...   0.   0.   0.]\n",
      " [ 46.  82. 172. ...   0.   0.   0.]\n",
      " ...\n",
      " [ 19.  51. 177. ...   1.   0.   0.]\n",
      " [ 22.  46. 151. ...   0.   0.   0.]\n",
      " [ 21.  70. 164. ...   1.   0.   0.]]\n"
     ]
    }
   ],
   "source": [
    "train_features1, test_features1, train_labels1, test_labels1 = train_test_split(features, labels_frame1, test_size = 0.25)\n",
    "train_features2, test_features2, train_labels2, test_labels2 = train_test_split(features, labels_frame2, test_size = 0.25)\n",
    "train_features3, test_features3, train_labels3, test_labels3 = train_test_split(features, labels_frame3, test_size = 0.25)\n",
    "\n",
    "print('Training Features Shape:', train_features1.shape)\n",
    "print('Training Labels Shape:', train_labels1.shape)\n",
    "print('Testing Features Shape:', test_features1.shape)\n",
    "print('Testing Labels Shape:', test_labels1.shape)\n",
    "\n",
    "print(test_features1)"
   ]
  },
  {
   "cell_type": "code",
   "execution_count": 6,
   "id": "bbbd6e42",
   "metadata": {},
   "outputs": [
    {
     "data": {
      "text/plain": [
       "RandomForestRegressor()"
      ]
     },
     "execution_count": 6,
     "metadata": {},
     "output_type": "execute_result"
    }
   ],
   "source": [
    "model_frame1 = RandomForestRegressor()\n",
    "model_frame2 = RandomForestRegressor()\n",
    "model_frame3 = RandomForestRegressor()\n",
    "\n",
    "model_frame1.fit(train_features1, train_labels1)\n",
    "model_frame2.fit(train_features2, train_labels2)\n",
    "model_frame3.fit(train_features3, train_labels3)"
   ]
  },
  {
   "cell_type": "code",
   "execution_count": 8,
   "id": "56c16a10",
   "metadata": {},
   "outputs": [
    {
     "name": "stdout",
     "output_type": "stream",
     "text": [
      "[3.68 3.89 3.94 4.79 3.28 3.34 3.83 3.97 4.84 4.41 4.49 3.12 5.32 3.42\n",
      " 4.21 3.39 4.3  4.22 3.64 3.29 3.38 3.48 4.17 2.61 3.87 4.3  3.91 5.02\n",
      " 4.43 5.02 3.38 3.38 6.01 3.43 4.86 2.61 4.54 3.47 4.01 3.19 3.48 3.37\n",
      " 4.31 2.9  4.39 3.31 3.78 3.48 2.82 4.09 3.79]\n",
      "frame 1 accuracy: 75.89%\n",
      "frame 2 accuracy: 66.6%\n",
      "frame 3 accuracy: 28.47%\n"
     ]
    }
   ],
   "source": [
    "prediction1 = model_frame1.predict(test_features1)\n",
    "error1 = abs(prediction1 - test_labels1)\n",
    "accuracy1 = 100  - np.mean(100 * (error1/test_labels1))\n",
    "\n",
    "prediction2 = model_frame2.predict(test_features2)\n",
    "error2 = abs(prediction2 - test_labels2)\n",
    "accuracy2 = 100  - np.mean(100 * (error2/test_labels2))\n",
    "\n",
    "prediction3 = model_frame3.predict(test_features3)\n",
    "error3 = abs(prediction3 - test_labels3)\n",
    "accuracy3 = 100  - np.mean(100 * (error3/test_labels3))\n",
    "\n",
    "print(prediction3)\n",
    "print(f\"frame 1 accuracy: {round(accuracy1, 2)}%\")\n",
    "print(f\"frame 2 accuracy: {round(accuracy2, 2)}%\")\n",
    "print(f\"frame 3 accuracy: {round(accuracy3, 2)}%\")"
   ]
  },
  {
   "cell_type": "code",
   "execution_count": 9,
   "id": "76311cf3",
   "metadata": {},
   "outputs": [
    {
     "data": {
      "text/plain": [
       "['model_frame3.pkl']"
      ]
     },
     "execution_count": 9,
     "metadata": {},
     "output_type": "execute_result"
    }
   ],
   "source": [
    "joblib.dump(model_frame1, 'model_frame1.pkl')\n",
    "joblib.dump(model_frame2, 'model_frame2.pkl')\n",
    "joblib.dump(model_frame3, 'model_frame3.pkl')"
   ]
  },
  {
   "cell_type": "code",
   "execution_count": null,
   "id": "d8819c2c",
   "metadata": {},
   "outputs": [],
   "source": []
  }
 ],
 "metadata": {
  "kernelspec": {
   "display_name": "gpu-1",
   "language": "python",
   "name": "gpu-1"
  },
  "language_info": {
   "codemirror_mode": {
    "name": "ipython",
    "version": 3
   },
   "file_extension": ".py",
   "mimetype": "text/x-python",
   "name": "python",
   "nbconvert_exporter": "python",
   "pygments_lexer": "ipython3",
   "version": "3.9.12"
  }
 },
 "nbformat": 4,
 "nbformat_minor": 5
}
